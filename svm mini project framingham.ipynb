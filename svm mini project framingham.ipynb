{
 "cells": [
  {
   "cell_type": "markdown",
   "metadata": {},
   "source": [
    "# MINI SVM USING KERNELS"
   ]
  },
  {
   "cell_type": "markdown",
   "metadata": {},
   "source": [
    "# Aakanksha D\n",
    "# 18BTRCR001\n",
    "# Ds 5th sem"
   ]
  },
  {
   "cell_type": "markdown",
   "metadata": {},
   "source": [
    "# importing libraries"
   ]
  },
  {
   "cell_type": "code",
   "execution_count": 1,
   "metadata": {},
   "outputs": [],
   "source": [
    "import pandas as pd\n",
    "import numpy as np\n",
    "import matplotlib.pyplot as plt\n",
    "%matplotlib inline"
   ]
  },
  {
   "cell_type": "markdown",
   "metadata": {},
   "source": [
    "# loading dataset"
   ]
  },
  {
   "cell_type": "code",
   "execution_count": 2,
   "metadata": {},
   "outputs": [],
   "source": [
    "df=pd.read_csv('framingham.csv')"
   ]
  },
  {
   "cell_type": "code",
   "execution_count": 3,
   "metadata": {},
   "outputs": [
    {
     "data": {
      "text/html": [
       "<div>\n",
       "<style scoped>\n",
       "    .dataframe tbody tr th:only-of-type {\n",
       "        vertical-align: middle;\n",
       "    }\n",
       "\n",
       "    .dataframe tbody tr th {\n",
       "        vertical-align: top;\n",
       "    }\n",
       "\n",
       "    .dataframe thead th {\n",
       "        text-align: right;\n",
       "    }\n",
       "</style>\n",
       "<table border=\"1\" class=\"dataframe\">\n",
       "  <thead>\n",
       "    <tr style=\"text-align: right;\">\n",
       "      <th></th>\n",
       "      <th>male</th>\n",
       "      <th>age</th>\n",
       "      <th>education</th>\n",
       "      <th>currentSmoker</th>\n",
       "      <th>cigsPerDay</th>\n",
       "      <th>BPMeds</th>\n",
       "      <th>prevalentStroke</th>\n",
       "      <th>prevalentHyp</th>\n",
       "      <th>diabetes</th>\n",
       "      <th>totChol</th>\n",
       "      <th>sysBP</th>\n",
       "      <th>diaBP</th>\n",
       "      <th>BMI</th>\n",
       "      <th>heartRate</th>\n",
       "      <th>glucose</th>\n",
       "      <th>TenYearCHD</th>\n",
       "    </tr>\n",
       "  </thead>\n",
       "  <tbody>\n",
       "    <tr>\n",
       "      <th>0</th>\n",
       "      <td>1</td>\n",
       "      <td>39</td>\n",
       "      <td>4.0</td>\n",
       "      <td>0</td>\n",
       "      <td>0.0</td>\n",
       "      <td>0.0</td>\n",
       "      <td>0</td>\n",
       "      <td>0</td>\n",
       "      <td>0</td>\n",
       "      <td>195.0</td>\n",
       "      <td>106.0</td>\n",
       "      <td>70.0</td>\n",
       "      <td>26.97</td>\n",
       "      <td>80.0</td>\n",
       "      <td>77.0</td>\n",
       "      <td>0</td>\n",
       "    </tr>\n",
       "    <tr>\n",
       "      <th>1</th>\n",
       "      <td>0</td>\n",
       "      <td>46</td>\n",
       "      <td>2.0</td>\n",
       "      <td>0</td>\n",
       "      <td>0.0</td>\n",
       "      <td>0.0</td>\n",
       "      <td>0</td>\n",
       "      <td>0</td>\n",
       "      <td>0</td>\n",
       "      <td>250.0</td>\n",
       "      <td>121.0</td>\n",
       "      <td>81.0</td>\n",
       "      <td>28.73</td>\n",
       "      <td>95.0</td>\n",
       "      <td>76.0</td>\n",
       "      <td>0</td>\n",
       "    </tr>\n",
       "    <tr>\n",
       "      <th>2</th>\n",
       "      <td>1</td>\n",
       "      <td>48</td>\n",
       "      <td>1.0</td>\n",
       "      <td>1</td>\n",
       "      <td>20.0</td>\n",
       "      <td>0.0</td>\n",
       "      <td>0</td>\n",
       "      <td>0</td>\n",
       "      <td>0</td>\n",
       "      <td>245.0</td>\n",
       "      <td>127.5</td>\n",
       "      <td>80.0</td>\n",
       "      <td>25.34</td>\n",
       "      <td>75.0</td>\n",
       "      <td>70.0</td>\n",
       "      <td>0</td>\n",
       "    </tr>\n",
       "    <tr>\n",
       "      <th>3</th>\n",
       "      <td>0</td>\n",
       "      <td>61</td>\n",
       "      <td>3.0</td>\n",
       "      <td>1</td>\n",
       "      <td>30.0</td>\n",
       "      <td>0.0</td>\n",
       "      <td>0</td>\n",
       "      <td>1</td>\n",
       "      <td>0</td>\n",
       "      <td>225.0</td>\n",
       "      <td>150.0</td>\n",
       "      <td>95.0</td>\n",
       "      <td>28.58</td>\n",
       "      <td>65.0</td>\n",
       "      <td>103.0</td>\n",
       "      <td>1</td>\n",
       "    </tr>\n",
       "    <tr>\n",
       "      <th>4</th>\n",
       "      <td>0</td>\n",
       "      <td>46</td>\n",
       "      <td>3.0</td>\n",
       "      <td>1</td>\n",
       "      <td>23.0</td>\n",
       "      <td>0.0</td>\n",
       "      <td>0</td>\n",
       "      <td>0</td>\n",
       "      <td>0</td>\n",
       "      <td>285.0</td>\n",
       "      <td>130.0</td>\n",
       "      <td>84.0</td>\n",
       "      <td>23.10</td>\n",
       "      <td>85.0</td>\n",
       "      <td>85.0</td>\n",
       "      <td>0</td>\n",
       "    </tr>\n",
       "  </tbody>\n",
       "</table>\n",
       "</div>"
      ],
      "text/plain": [
       "   male  age  education  currentSmoker  cigsPerDay  BPMeds  prevalentStroke  \\\n",
       "0     1   39        4.0              0         0.0     0.0                0   \n",
       "1     0   46        2.0              0         0.0     0.0                0   \n",
       "2     1   48        1.0              1        20.0     0.0                0   \n",
       "3     0   61        3.0              1        30.0     0.0                0   \n",
       "4     0   46        3.0              1        23.0     0.0                0   \n",
       "\n",
       "   prevalentHyp  diabetes  totChol  sysBP  diaBP    BMI  heartRate  glucose  \\\n",
       "0             0         0    195.0  106.0   70.0  26.97       80.0     77.0   \n",
       "1             0         0    250.0  121.0   81.0  28.73       95.0     76.0   \n",
       "2             0         0    245.0  127.5   80.0  25.34       75.0     70.0   \n",
       "3             1         0    225.0  150.0   95.0  28.58       65.0    103.0   \n",
       "4             0         0    285.0  130.0   84.0  23.10       85.0     85.0   \n",
       "\n",
       "   TenYearCHD  \n",
       "0           0  \n",
       "1           0  \n",
       "2           0  \n",
       "3           1  \n",
       "4           0  "
      ]
     },
     "execution_count": 3,
     "metadata": {},
     "output_type": "execute_result"
    }
   ],
   "source": [
    "df.head(5)"
   ]
  },
  {
   "cell_type": "code",
   "execution_count": 5,
   "metadata": {},
   "outputs": [
    {
     "data": {
      "text/plain": [
       "(4238, 16)"
      ]
     },
     "execution_count": 5,
     "metadata": {},
     "output_type": "execute_result"
    }
   ],
   "source": [
    "df.shape"
   ]
  },
  {
   "cell_type": "code",
   "execution_count": 6,
   "metadata": {},
   "outputs": [],
   "source": [
    "df=df.drop(['education'],axis=1)"
   ]
  },
  {
   "cell_type": "markdown",
   "metadata": {},
   "source": [
    "# checking missing and null values"
   ]
  },
  {
   "cell_type": "code",
   "execution_count": 8,
   "metadata": {},
   "outputs": [
    {
     "data": {
      "text/plain": [
       "male                 0\n",
       "age                  0\n",
       "currentSmoker        0\n",
       "cigsPerDay          29\n",
       "BPMeds              53\n",
       "prevalentStroke      0\n",
       "prevalentHyp         0\n",
       "diabetes             0\n",
       "totChol             50\n",
       "sysBP                0\n",
       "diaBP                0\n",
       "BMI                 19\n",
       "heartRate            1\n",
       "glucose            388\n",
       "TenYearCHD           0\n",
       "dtype: int64"
      ]
     },
     "execution_count": 8,
     "metadata": {},
     "output_type": "execute_result"
    }
   ],
   "source": [
    "df.isnull().sum()"
   ]
  },
  {
   "cell_type": "code",
   "execution_count": 9,
   "metadata": {},
   "outputs": [
    {
     "data": {
      "text/plain": [
       "male               0\n",
       "age                0\n",
       "currentSmoker      0\n",
       "cigsPerDay         0\n",
       "BPMeds             0\n",
       "prevalentStroke    0\n",
       "prevalentHyp       0\n",
       "diabetes           0\n",
       "totChol            0\n",
       "sysBP              0\n",
       "diaBP              0\n",
       "BMI                0\n",
       "heartRate          0\n",
       "glucose            0\n",
       "TenYearCHD         0\n",
       "dtype: int64"
      ]
     },
     "execution_count": 9,
     "metadata": {},
     "output_type": "execute_result"
    }
   ],
   "source": [
    "df=df.dropna()\n",
    "df.isnull().sum()"
   ]
  },
  {
   "cell_type": "code",
   "execution_count": 10,
   "metadata": {},
   "outputs": [
    {
     "data": {
      "text/html": [
       "<div>\n",
       "<style scoped>\n",
       "    .dataframe tbody tr th:only-of-type {\n",
       "        vertical-align: middle;\n",
       "    }\n",
       "\n",
       "    .dataframe tbody tr th {\n",
       "        vertical-align: top;\n",
       "    }\n",
       "\n",
       "    .dataframe thead th {\n",
       "        text-align: right;\n",
       "    }\n",
       "</style>\n",
       "<table border=\"1\" class=\"dataframe\">\n",
       "  <thead>\n",
       "    <tr style=\"text-align: right;\">\n",
       "      <th></th>\n",
       "      <th>male</th>\n",
       "      <th>age</th>\n",
       "      <th>currentSmoker</th>\n",
       "      <th>cigsPerDay</th>\n",
       "      <th>BPMeds</th>\n",
       "      <th>prevalentStroke</th>\n",
       "      <th>prevalentHyp</th>\n",
       "      <th>diabetes</th>\n",
       "      <th>totChol</th>\n",
       "      <th>sysBP</th>\n",
       "      <th>diaBP</th>\n",
       "      <th>BMI</th>\n",
       "      <th>heartRate</th>\n",
       "      <th>glucose</th>\n",
       "      <th>TenYearCHD</th>\n",
       "    </tr>\n",
       "  </thead>\n",
       "  <tbody>\n",
       "    <tr>\n",
       "      <th>count</th>\n",
       "      <td>3749.000000</td>\n",
       "      <td>3749.000000</td>\n",
       "      <td>3749.000000</td>\n",
       "      <td>3749.000000</td>\n",
       "      <td>3749.000000</td>\n",
       "      <td>3749.000000</td>\n",
       "      <td>3749.000000</td>\n",
       "      <td>3749.000000</td>\n",
       "      <td>3749.000000</td>\n",
       "      <td>3749.000000</td>\n",
       "      <td>3749.000000</td>\n",
       "      <td>3749.000000</td>\n",
       "      <td>3749.000000</td>\n",
       "      <td>3749.000000</td>\n",
       "      <td>3749.000000</td>\n",
       "    </tr>\n",
       "    <tr>\n",
       "      <th>mean</th>\n",
       "      <td>0.445185</td>\n",
       "      <td>49.578821</td>\n",
       "      <td>0.488397</td>\n",
       "      <td>9.005335</td>\n",
       "      <td>0.030408</td>\n",
       "      <td>0.005601</td>\n",
       "      <td>0.311816</td>\n",
       "      <td>0.027207</td>\n",
       "      <td>236.952787</td>\n",
       "      <td>132.365964</td>\n",
       "      <td>82.933716</td>\n",
       "      <td>25.809651</td>\n",
       "      <td>75.703921</td>\n",
       "      <td>81.883169</td>\n",
       "      <td>0.152574</td>\n",
       "    </tr>\n",
       "    <tr>\n",
       "      <th>std</th>\n",
       "      <td>0.497053</td>\n",
       "      <td>8.569322</td>\n",
       "      <td>0.499932</td>\n",
       "      <td>11.922440</td>\n",
       "      <td>0.171730</td>\n",
       "      <td>0.074643</td>\n",
       "      <td>0.463297</td>\n",
       "      <td>0.162709</td>\n",
       "      <td>44.610417</td>\n",
       "      <td>22.051951</td>\n",
       "      <td>11.933321</td>\n",
       "      <td>4.065894</td>\n",
       "      <td>11.957763</td>\n",
       "      <td>23.888039</td>\n",
       "      <td>0.359624</td>\n",
       "    </tr>\n",
       "    <tr>\n",
       "      <th>min</th>\n",
       "      <td>0.000000</td>\n",
       "      <td>32.000000</td>\n",
       "      <td>0.000000</td>\n",
       "      <td>0.000000</td>\n",
       "      <td>0.000000</td>\n",
       "      <td>0.000000</td>\n",
       "      <td>0.000000</td>\n",
       "      <td>0.000000</td>\n",
       "      <td>113.000000</td>\n",
       "      <td>83.500000</td>\n",
       "      <td>48.000000</td>\n",
       "      <td>15.540000</td>\n",
       "      <td>44.000000</td>\n",
       "      <td>40.000000</td>\n",
       "      <td>0.000000</td>\n",
       "    </tr>\n",
       "    <tr>\n",
       "      <th>25%</th>\n",
       "      <td>0.000000</td>\n",
       "      <td>42.000000</td>\n",
       "      <td>0.000000</td>\n",
       "      <td>0.000000</td>\n",
       "      <td>0.000000</td>\n",
       "      <td>0.000000</td>\n",
       "      <td>0.000000</td>\n",
       "      <td>0.000000</td>\n",
       "      <td>206.000000</td>\n",
       "      <td>117.000000</td>\n",
       "      <td>75.000000</td>\n",
       "      <td>23.090000</td>\n",
       "      <td>68.000000</td>\n",
       "      <td>71.000000</td>\n",
       "      <td>0.000000</td>\n",
       "    </tr>\n",
       "    <tr>\n",
       "      <th>50%</th>\n",
       "      <td>0.000000</td>\n",
       "      <td>49.000000</td>\n",
       "      <td>0.000000</td>\n",
       "      <td>0.000000</td>\n",
       "      <td>0.000000</td>\n",
       "      <td>0.000000</td>\n",
       "      <td>0.000000</td>\n",
       "      <td>0.000000</td>\n",
       "      <td>234.000000</td>\n",
       "      <td>128.000000</td>\n",
       "      <td>82.000000</td>\n",
       "      <td>25.410000</td>\n",
       "      <td>75.000000</td>\n",
       "      <td>78.000000</td>\n",
       "      <td>0.000000</td>\n",
       "    </tr>\n",
       "    <tr>\n",
       "      <th>75%</th>\n",
       "      <td>1.000000</td>\n",
       "      <td>56.000000</td>\n",
       "      <td>1.000000</td>\n",
       "      <td>20.000000</td>\n",
       "      <td>0.000000</td>\n",
       "      <td>0.000000</td>\n",
       "      <td>1.000000</td>\n",
       "      <td>0.000000</td>\n",
       "      <td>264.000000</td>\n",
       "      <td>144.000000</td>\n",
       "      <td>90.000000</td>\n",
       "      <td>28.060000</td>\n",
       "      <td>82.000000</td>\n",
       "      <td>87.000000</td>\n",
       "      <td>0.000000</td>\n",
       "    </tr>\n",
       "    <tr>\n",
       "      <th>max</th>\n",
       "      <td>1.000000</td>\n",
       "      <td>70.000000</td>\n",
       "      <td>1.000000</td>\n",
       "      <td>70.000000</td>\n",
       "      <td>1.000000</td>\n",
       "      <td>1.000000</td>\n",
       "      <td>1.000000</td>\n",
       "      <td>1.000000</td>\n",
       "      <td>696.000000</td>\n",
       "      <td>295.000000</td>\n",
       "      <td>142.500000</td>\n",
       "      <td>56.800000</td>\n",
       "      <td>143.000000</td>\n",
       "      <td>394.000000</td>\n",
       "      <td>1.000000</td>\n",
       "    </tr>\n",
       "  </tbody>\n",
       "</table>\n",
       "</div>"
      ],
      "text/plain": [
       "              male          age  currentSmoker   cigsPerDay       BPMeds  \\\n",
       "count  3749.000000  3749.000000    3749.000000  3749.000000  3749.000000   \n",
       "mean      0.445185    49.578821       0.488397     9.005335     0.030408   \n",
       "std       0.497053     8.569322       0.499932    11.922440     0.171730   \n",
       "min       0.000000    32.000000       0.000000     0.000000     0.000000   \n",
       "25%       0.000000    42.000000       0.000000     0.000000     0.000000   \n",
       "50%       0.000000    49.000000       0.000000     0.000000     0.000000   \n",
       "75%       1.000000    56.000000       1.000000    20.000000     0.000000   \n",
       "max       1.000000    70.000000       1.000000    70.000000     1.000000   \n",
       "\n",
       "       prevalentStroke  prevalentHyp     diabetes      totChol        sysBP  \\\n",
       "count      3749.000000   3749.000000  3749.000000  3749.000000  3749.000000   \n",
       "mean          0.005601      0.311816     0.027207   236.952787   132.365964   \n",
       "std           0.074643      0.463297     0.162709    44.610417    22.051951   \n",
       "min           0.000000      0.000000     0.000000   113.000000    83.500000   \n",
       "25%           0.000000      0.000000     0.000000   206.000000   117.000000   \n",
       "50%           0.000000      0.000000     0.000000   234.000000   128.000000   \n",
       "75%           0.000000      1.000000     0.000000   264.000000   144.000000   \n",
       "max           1.000000      1.000000     1.000000   696.000000   295.000000   \n",
       "\n",
       "             diaBP          BMI    heartRate      glucose   TenYearCHD  \n",
       "count  3749.000000  3749.000000  3749.000000  3749.000000  3749.000000  \n",
       "mean     82.933716    25.809651    75.703921    81.883169     0.152574  \n",
       "std      11.933321     4.065894    11.957763    23.888039     0.359624  \n",
       "min      48.000000    15.540000    44.000000    40.000000     0.000000  \n",
       "25%      75.000000    23.090000    68.000000    71.000000     0.000000  \n",
       "50%      82.000000    25.410000    75.000000    78.000000     0.000000  \n",
       "75%      90.000000    28.060000    82.000000    87.000000     0.000000  \n",
       "max     142.500000    56.800000   143.000000   394.000000     1.000000  "
      ]
     },
     "execution_count": 10,
     "metadata": {},
     "output_type": "execute_result"
    }
   ],
   "source": [
    "df.describe()"
   ]
  },
  {
   "cell_type": "code",
   "execution_count": 11,
   "metadata": {},
   "outputs": [
    {
     "name": "stdout",
     "output_type": "stream",
     "text": [
      "<class 'pandas.core.frame.DataFrame'>\n",
      "Int64Index: 3749 entries, 0 to 4237\n",
      "Data columns (total 15 columns):\n",
      " #   Column           Non-Null Count  Dtype  \n",
      "---  ------           --------------  -----  \n",
      " 0   male             3749 non-null   int64  \n",
      " 1   age              3749 non-null   int64  \n",
      " 2   currentSmoker    3749 non-null   int64  \n",
      " 3   cigsPerDay       3749 non-null   float64\n",
      " 4   BPMeds           3749 non-null   float64\n",
      " 5   prevalentStroke  3749 non-null   int64  \n",
      " 6   prevalentHyp     3749 non-null   int64  \n",
      " 7   diabetes         3749 non-null   int64  \n",
      " 8   totChol          3749 non-null   float64\n",
      " 9   sysBP            3749 non-null   float64\n",
      " 10  diaBP            3749 non-null   float64\n",
      " 11  BMI              3749 non-null   float64\n",
      " 12  heartRate        3749 non-null   float64\n",
      " 13  glucose          3749 non-null   float64\n",
      " 14  TenYearCHD       3749 non-null   int64  \n",
      "dtypes: float64(8), int64(7)\n",
      "memory usage: 468.6 KB\n"
     ]
    }
   ],
   "source": [
    "df.info()"
   ]
  },
  {
   "cell_type": "markdown",
   "metadata": {},
   "source": [
    "# data processing"
   ]
  },
  {
   "cell_type": "code",
   "execution_count": 14,
   "metadata": {},
   "outputs": [
    {
     "data": {
      "text/plain": [
       "0    3177\n",
       "1     572\n",
       "Name: TenYearCHD, dtype: int64"
      ]
     },
     "execution_count": 14,
     "metadata": {},
     "output_type": "execute_result"
    }
   ],
   "source": [
    "df['TenYearCHD'].value_counts()"
   ]
  },
  {
   "cell_type": "code",
   "execution_count": 15,
   "metadata": {},
   "outputs": [],
   "source": [
    "import seaborn as sns"
   ]
  },
  {
   "cell_type": "code",
   "execution_count": 17,
   "metadata": {
    "scrolled": true
   },
   "outputs": [
    {
     "data": {
      "text/plain": [
       "<matplotlib.axes._subplots.AxesSubplot at 0x272a5f83f70>"
      ]
     },
     "execution_count": 17,
     "metadata": {},
     "output_type": "execute_result"
    },
    {
     "data": {
      "image/png": "[encoded data removed]",
      "text/plain": [
       "<Figure size 432x288 with 1 Axes>"
      ]
     },
     "metadata": {
      "needs_background": "light"
     },
     "output_type": "display_data"
    }
   ],
   "source": [
    "sns.countplot(df['TenYearCHD'],label=\"count\")"
   ]
  },
  {
   "cell_type": "markdown",
   "metadata": {},
   "source": [
    "# Checking correlation between variables"
   ]
  },
  {
   "cell_type": "code",
   "execution_count": 19,
   "metadata": {},
   "outputs": [
    {
     "data": {
      "text/html": [
       "<div>\n",
       "<style scoped>\n",
       "    .dataframe tbody tr th:only-of-type {\n",
       "        vertical-align: middle;\n",
       "    }\n",
       "\n",
       "    .dataframe tbody tr th {\n",
       "        vertical-align: top;\n",
       "    }\n",
       "\n",
       "    .dataframe thead th {\n",
       "        text-align: right;\n",
       "    }\n",
       "</style>\n",
       "<table border=\"1\" class=\"dataframe\">\n",
       "  <thead>\n",
       "    <tr style=\"text-align: right;\">\n",
       "      <th></th>\n",
       "      <th>male</th>\n",
       "      <th>age</th>\n",
       "      <th>currentSmoker</th>\n",
       "      <th>cigsPerDay</th>\n",
       "      <th>BPMeds</th>\n",
       "      <th>prevalentStroke</th>\n",
       "      <th>prevalentHyp</th>\n",
       "      <th>diabetes</th>\n",
       "      <th>totChol</th>\n",
       "      <th>sysBP</th>\n",
       "      <th>diaBP</th>\n",
       "      <th>BMI</th>\n",
       "      <th>heartRate</th>\n",
       "      <th>glucose</th>\n",
       "      <th>TenYearCHD</th>\n",
       "    </tr>\n",
       "  </thead>\n",
       "  <tbody>\n",
       "    <tr>\n",
       "      <th>male</th>\n",
       "      <td>1.000000</td>\n",
       "      <td>-0.024120</td>\n",
       "      <td>0.203861</td>\n",
       "      <td>0.326780</td>\n",
       "      <td>-0.052359</td>\n",
       "      <td>-0.002509</td>\n",
       "      <td>0.002987</td>\n",
       "      <td>0.011847</td>\n",
       "      <td>-0.067506</td>\n",
       "      <td>-0.044638</td>\n",
       "      <td>0.053602</td>\n",
       "      <td>0.074630</td>\n",
       "      <td>-0.115091</td>\n",
       "      <td>0.003236</td>\n",
       "      <td>0.096056</td>\n",
       "    </tr>\n",
       "    <tr>\n",
       "      <th>age</th>\n",
       "      <td>-0.024120</td>\n",
       "      <td>1.000000</td>\n",
       "      <td>-0.211427</td>\n",
       "      <td>-0.188611</td>\n",
       "      <td>0.131629</td>\n",
       "      <td>0.049990</td>\n",
       "      <td>0.305735</td>\n",
       "      <td>0.109257</td>\n",
       "      <td>0.260967</td>\n",
       "      <td>0.388558</td>\n",
       "      <td>0.205774</td>\n",
       "      <td>0.136093</td>\n",
       "      <td>-0.005857</td>\n",
       "      <td>0.118426</td>\n",
       "      <td>0.231414</td>\n",
       "    </tr>\n",
       "    <tr>\n",
       "      <th>currentSmoker</th>\n",
       "      <td>0.203861</td>\n",
       "      <td>-0.211427</td>\n",
       "      <td>1.000000</td>\n",
       "      <td>0.773166</td>\n",
       "      <td>-0.051828</td>\n",
       "      <td>-0.037582</td>\n",
       "      <td>-0.104753</td>\n",
       "      <td>-0.045319</td>\n",
       "      <td>-0.050025</td>\n",
       "      <td>-0.133098</td>\n",
       "      <td>-0.113915</td>\n",
       "      <td>-0.165165</td>\n",
       "      <td>0.054545</td>\n",
       "      <td>-0.054180</td>\n",
       "      <td>0.021722</td>\n",
       "    </tr>\n",
       "    <tr>\n",
       "      <th>cigsPerDay</th>\n",
       "      <td>0.326780</td>\n",
       "      <td>-0.188611</td>\n",
       "      <td>0.773166</td>\n",
       "      <td>1.000000</td>\n",
       "      <td>-0.046601</td>\n",
       "      <td>-0.035711</td>\n",
       "      <td>-0.066911</td>\n",
       "      <td>-0.039411</td>\n",
       "      <td>-0.030427</td>\n",
       "      <td>-0.092292</td>\n",
       "      <td>-0.056108</td>\n",
       "      <td>-0.090032</td>\n",
       "      <td>0.066726</td>\n",
       "      <td>-0.055165</td>\n",
       "      <td>0.056064</td>\n",
       "    </tr>\n",
       "    <tr>\n",
       "      <th>BPMeds</th>\n",
       "      <td>-0.052359</td>\n",
       "      <td>0.131629</td>\n",
       "      <td>-0.051828</td>\n",
       "      <td>-0.046601</td>\n",
       "      <td>1.000000</td>\n",
       "      <td>0.111595</td>\n",
       "      <td>0.263089</td>\n",
       "      <td>0.056322</td>\n",
       "      <td>0.089554</td>\n",
       "      <td>0.269507</td>\n",
       "      <td>0.199400</td>\n",
       "      <td>0.105090</td>\n",
       "      <td>0.010232</td>\n",
       "      <td>0.052442</td>\n",
       "      <td>0.084704</td>\n",
       "    </tr>\n",
       "    <tr>\n",
       "      <th>prevalentStroke</th>\n",
       "      <td>-0.002509</td>\n",
       "      <td>0.049990</td>\n",
       "      <td>-0.037582</td>\n",
       "      <td>-0.035711</td>\n",
       "      <td>0.111595</td>\n",
       "      <td>1.000000</td>\n",
       "      <td>0.065208</td>\n",
       "      <td>0.009417</td>\n",
       "      <td>0.012259</td>\n",
       "      <td>0.060431</td>\n",
       "      <td>0.055232</td>\n",
       "      <td>0.035550</td>\n",
       "      <td>-0.016675</td>\n",
       "      <td>0.015779</td>\n",
       "      <td>0.047669</td>\n",
       "    </tr>\n",
       "    <tr>\n",
       "      <th>prevalentHyp</th>\n",
       "      <td>0.002987</td>\n",
       "      <td>0.305735</td>\n",
       "      <td>-0.104753</td>\n",
       "      <td>-0.066911</td>\n",
       "      <td>0.263089</td>\n",
       "      <td>0.065208</td>\n",
       "      <td>1.000000</td>\n",
       "      <td>0.082096</td>\n",
       "      <td>0.165049</td>\n",
       "      <td>0.697960</td>\n",
       "      <td>0.616655</td>\n",
       "      <td>0.303382</td>\n",
       "      <td>0.142512</td>\n",
       "      <td>0.085959</td>\n",
       "      <td>0.178779</td>\n",
       "    </tr>\n",
       "    <tr>\n",
       "      <th>diabetes</th>\n",
       "      <td>0.011847</td>\n",
       "      <td>0.109257</td>\n",
       "      <td>-0.045319</td>\n",
       "      <td>-0.039411</td>\n",
       "      <td>0.056322</td>\n",
       "      <td>0.009417</td>\n",
       "      <td>0.082096</td>\n",
       "      <td>1.000000</td>\n",
       "      <td>0.047374</td>\n",
       "      <td>0.104415</td>\n",
       "      <td>0.051841</td>\n",
       "      <td>0.093061</td>\n",
       "      <td>0.063383</td>\n",
       "      <td>0.616084</td>\n",
       "      <td>0.093190</td>\n",
       "    </tr>\n",
       "    <tr>\n",
       "      <th>totChol</th>\n",
       "      <td>-0.067506</td>\n",
       "      <td>0.260967</td>\n",
       "      <td>-0.050025</td>\n",
       "      <td>-0.030427</td>\n",
       "      <td>0.089554</td>\n",
       "      <td>0.012259</td>\n",
       "      <td>0.165049</td>\n",
       "      <td>0.047374</td>\n",
       "      <td>1.000000</td>\n",
       "      <td>0.216572</td>\n",
       "      <td>0.170353</td>\n",
       "      <td>0.119398</td>\n",
       "      <td>0.094802</td>\n",
       "      <td>0.046769</td>\n",
       "      <td>0.089408</td>\n",
       "    </tr>\n",
       "    <tr>\n",
       "      <th>sysBP</th>\n",
       "      <td>-0.044638</td>\n",
       "      <td>0.388558</td>\n",
       "      <td>-0.133098</td>\n",
       "      <td>-0.092292</td>\n",
       "      <td>0.269507</td>\n",
       "      <td>0.060431</td>\n",
       "      <td>0.697960</td>\n",
       "      <td>0.104415</td>\n",
       "      <td>0.216572</td>\n",
       "      <td>1.000000</td>\n",
       "      <td>0.785909</td>\n",
       "      <td>0.330569</td>\n",
       "      <td>0.181482</td>\n",
       "      <td>0.132928</td>\n",
       "      <td>0.220170</td>\n",
       "    </tr>\n",
       "    <tr>\n",
       "      <th>diaBP</th>\n",
       "      <td>0.053602</td>\n",
       "      <td>0.205774</td>\n",
       "      <td>-0.113915</td>\n",
       "      <td>-0.056108</td>\n",
       "      <td>0.199400</td>\n",
       "      <td>0.055232</td>\n",
       "      <td>0.616655</td>\n",
       "      <td>0.051841</td>\n",
       "      <td>0.170353</td>\n",
       "      <td>0.785909</td>\n",
       "      <td>1.000000</td>\n",
       "      <td>0.384166</td>\n",
       "      <td>0.175175</td>\n",
       "      <td>0.061891</td>\n",
       "      <td>0.149206</td>\n",
       "    </tr>\n",
       "    <tr>\n",
       "      <th>BMI</th>\n",
       "      <td>0.074630</td>\n",
       "      <td>0.136093</td>\n",
       "      <td>-0.165165</td>\n",
       "      <td>-0.090032</td>\n",
       "      <td>0.105090</td>\n",
       "      <td>0.035550</td>\n",
       "      <td>0.303382</td>\n",
       "      <td>0.093061</td>\n",
       "      <td>0.119398</td>\n",
       "      <td>0.330569</td>\n",
       "      <td>0.384166</td>\n",
       "      <td>1.000000</td>\n",
       "      <td>0.071953</td>\n",
       "      <td>0.088121</td>\n",
       "      <td>0.084278</td>\n",
       "    </tr>\n",
       "    <tr>\n",
       "      <th>heartRate</th>\n",
       "      <td>-0.115091</td>\n",
       "      <td>-0.005857</td>\n",
       "      <td>0.054545</td>\n",
       "      <td>0.066726</td>\n",
       "      <td>0.010232</td>\n",
       "      <td>-0.016675</td>\n",
       "      <td>0.142512</td>\n",
       "      <td>0.063383</td>\n",
       "      <td>0.094802</td>\n",
       "      <td>0.181482</td>\n",
       "      <td>0.175175</td>\n",
       "      <td>0.071953</td>\n",
       "      <td>1.000000</td>\n",
       "      <td>0.099528</td>\n",
       "      <td>0.022668</td>\n",
       "    </tr>\n",
       "    <tr>\n",
       "      <th>glucose</th>\n",
       "      <td>0.003236</td>\n",
       "      <td>0.118426</td>\n",
       "      <td>-0.054180</td>\n",
       "      <td>-0.055165</td>\n",
       "      <td>0.052442</td>\n",
       "      <td>0.015779</td>\n",
       "      <td>0.085959</td>\n",
       "      <td>0.616084</td>\n",
       "      <td>0.046769</td>\n",
       "      <td>0.132928</td>\n",
       "      <td>0.061891</td>\n",
       "      <td>0.088121</td>\n",
       "      <td>0.099528</td>\n",
       "      <td>1.000000</td>\n",
       "      <td>0.124071</td>\n",
       "    </tr>\n",
       "    <tr>\n",
       "      <th>TenYearCHD</th>\n",
       "      <td>0.096056</td>\n",
       "      <td>0.231414</td>\n",
       "      <td>0.021722</td>\n",
       "      <td>0.056064</td>\n",
       "      <td>0.084704</td>\n",
       "      <td>0.047669</td>\n",
       "      <td>0.178779</td>\n",
       "      <td>0.093190</td>\n",
       "      <td>0.089408</td>\n",
       "      <td>0.220170</td>\n",
       "      <td>0.149206</td>\n",
       "      <td>0.084278</td>\n",
       "      <td>0.022668</td>\n",
       "      <td>0.124071</td>\n",
       "      <td>1.000000</td>\n",
       "    </tr>\n",
       "  </tbody>\n",
       "</table>\n",
       "</div>"
      ],
      "text/plain": [
       "                     male       age  currentSmoker  cigsPerDay    BPMeds  \\\n",
       "male             1.000000 -0.024120       0.203861    0.326780 -0.052359   \n",
       "age             -0.024120  1.000000      -0.211427   -0.188611  0.131629   \n",
       "currentSmoker    0.203861 -0.211427       1.000000    0.773166 -0.051828   \n",
       "cigsPerDay       0.326780 -0.188611       0.773166    1.000000 -0.046601   \n",
       "BPMeds          -0.052359  0.131629      -0.051828   -0.046601  1.000000   \n",
       "prevalentStroke -0.002509  0.049990      -0.037582   -0.035711  0.111595   \n",
       "prevalentHyp     0.002987  0.305735      -0.104753   -0.066911  0.263089   \n",
       "diabetes         0.011847  0.109257      -0.045319   -0.039411  0.056322   \n",
       "totChol         -0.067506  0.260967      -0.050025   -0.030427  0.089554   \n",
       "sysBP           -0.044638  0.388558      -0.133098   -0.092292  0.269507   \n",
       "diaBP            0.053602  0.205774      -0.113915   -0.056108  0.199400   \n",
       "BMI              0.074630  0.136093      -0.165165   -0.090032  0.105090   \n",
       "heartRate       -0.115091 -0.005857       0.054545    0.066726  0.010232   \n",
       "glucose          0.003236  0.118426      -0.054180   -0.055165  0.052442   \n",
       "TenYearCHD       0.096056  0.231414       0.021722    0.056064  0.084704   \n",
       "\n",
       "                 prevalentStroke  prevalentHyp  diabetes   totChol     sysBP  \\\n",
       "male                   -0.002509      0.002987  0.011847 -0.067506 -0.044638   \n",
       "age                     0.049990      0.305735  0.109257  0.260967  0.388558   \n",
       "currentSmoker          -0.037582     -0.104753 -0.045319 -0.050025 -0.133098   \n",
       "cigsPerDay             -0.035711     -0.066911 -0.039411 -0.030427 -0.092292   \n",
       "BPMeds                  0.111595      0.263089  0.056322  0.089554  0.269507   \n",
       "prevalentStroke         1.000000      0.065208  0.009417  0.012259  0.060431   \n",
       "prevalentHyp            0.065208      1.000000  0.082096  0.165049  0.697960   \n",
       "diabetes                0.009417      0.082096  1.000000  0.047374  0.104415   \n",
       "totChol                 0.012259      0.165049  0.047374  1.000000  0.216572   \n",
       "sysBP                   0.060431      0.697960  0.104415  0.216572  1.000000   \n",
       "diaBP                   0.055232      0.616655  0.051841  0.170353  0.785909   \n",
       "BMI                     0.035550      0.303382  0.093061  0.119398  0.330569   \n",
       "heartRate              -0.016675      0.142512  0.063383  0.094802  0.181482   \n",
       "glucose                 0.015779      0.085959  0.616084  0.046769  0.132928   \n",
       "TenYearCHD              0.047669      0.178779  0.093190  0.089408  0.220170   \n",
       "\n",
       "                    diaBP       BMI  heartRate   glucose  TenYearCHD  \n",
       "male             0.053602  0.074630  -0.115091  0.003236    0.096056  \n",
       "age              0.205774  0.136093  -0.005857  0.118426    0.231414  \n",
       "currentSmoker   -0.113915 -0.165165   0.054545 -0.054180    0.021722  \n",
       "cigsPerDay      -0.056108 -0.090032   0.066726 -0.055165    0.056064  \n",
       "BPMeds           0.199400  0.105090   0.010232  0.052442    0.084704  \n",
       "prevalentStroke  0.055232  0.035550  -0.016675  0.015779    0.047669  \n",
       "prevalentHyp     0.616655  0.303382   0.142512  0.085959    0.178779  \n",
       "diabetes         0.051841  0.093061   0.063383  0.616084    0.093190  \n",
       "totChol          0.170353  0.119398   0.094802  0.046769    0.089408  \n",
       "sysBP            0.785909  0.330569   0.181482  0.132928    0.220170  \n",
       "diaBP            1.000000  0.384166   0.175175  0.061891    0.149206  \n",
       "BMI              0.384166  1.000000   0.071953  0.088121    0.084278  \n",
       "heartRate        0.175175  0.071953   1.000000  0.099528    0.022668  \n",
       "glucose          0.061891  0.088121   0.099528  1.000000    0.124071  \n",
       "TenYearCHD       0.149206  0.084278   0.022668  0.124071    1.000000  "
      ]
     },
     "execution_count": 19,
     "metadata": {},
     "output_type": "execute_result"
    }
   ],
   "source": [
    "df.corr()"
   ]
  },
  {
   "cell_type": "markdown",
   "metadata": {},
   "source": [
    "# Important feature selection\n",
    "#                   Find correlation between each features"
   ]
  },
  {
   "cell_type": "code",
   "execution_count": 20,
   "metadata": {},
   "outputs": [
    {
     "data": {
      "text/plain": [
       "<matplotlib.axes._subplots.AxesSubplot at 0x272a6733490>"
      ]
     },
     "execution_count": 20,
     "metadata": {},
     "output_type": "execute_result"
    },
    {
     "data": {
      "image/png": "[encoded data removed]",
      "text/plain": [
       "<Figure size 720x720 with 2 Axes>"
      ]
     },
     "metadata": {
      "needs_background": "light"
     },
     "output_type": "display_data"
    }
   ],
   "source": [
    "plt.figure(figsize=(10,10))\n",
    "sns.heatmap(df.corr(),annot=True)"
   ]
  },
  {
   "cell_type": "code",
   "execution_count": 21,
   "metadata": {},
   "outputs": [],
   "source": [
    "X=df.drop('TenYearCHD',axis=1)\n",
    "y=df['TenYearCHD']"
   ]
  },
  {
   "cell_type": "code",
   "execution_count": 22,
   "metadata": {},
   "outputs": [
    {
     "data": {
      "text/html": [
       "<div>\n",
       "<style scoped>\n",
       "    .dataframe tbody tr th:only-of-type {\n",
       "        vertical-align: middle;\n",
       "    }\n",
       "\n",
       "    .dataframe tbody tr th {\n",
       "        vertical-align: top;\n",
       "    }\n",
       "\n",
       "    .dataframe thead th {\n",
       "        text-align: right;\n",
       "    }\n",
       "</style>\n",
       "<table border=\"1\" class=\"dataframe\">\n",
       "  <thead>\n",
       "    <tr style=\"text-align: right;\">\n",
       "      <th></th>\n",
       "      <th>male</th>\n",
       "      <th>age</th>\n",
       "      <th>currentSmoker</th>\n",
       "      <th>cigsPerDay</th>\n",
       "      <th>BPMeds</th>\n",
       "      <th>prevalentStroke</th>\n",
       "      <th>prevalentHyp</th>\n",
       "      <th>diabetes</th>\n",
       "      <th>totChol</th>\n",
       "      <th>sysBP</th>\n",
       "      <th>diaBP</th>\n",
       "      <th>BMI</th>\n",
       "      <th>heartRate</th>\n",
       "      <th>glucose</th>\n",
       "    </tr>\n",
       "  </thead>\n",
       "  <tbody>\n",
       "    <tr>\n",
       "      <th>0</th>\n",
       "      <td>1</td>\n",
       "      <td>39</td>\n",
       "      <td>0</td>\n",
       "      <td>0.0</td>\n",
       "      <td>0.0</td>\n",
       "      <td>0</td>\n",
       "      <td>0</td>\n",
       "      <td>0</td>\n",
       "      <td>195.0</td>\n",
       "      <td>106.0</td>\n",
       "      <td>70.0</td>\n",
       "      <td>26.97</td>\n",
       "      <td>80.0</td>\n",
       "      <td>77.0</td>\n",
       "    </tr>\n",
       "    <tr>\n",
       "      <th>1</th>\n",
       "      <td>0</td>\n",
       "      <td>46</td>\n",
       "      <td>0</td>\n",
       "      <td>0.0</td>\n",
       "      <td>0.0</td>\n",
       "      <td>0</td>\n",
       "      <td>0</td>\n",
       "      <td>0</td>\n",
       "      <td>250.0</td>\n",
       "      <td>121.0</td>\n",
       "      <td>81.0</td>\n",
       "      <td>28.73</td>\n",
       "      <td>95.0</td>\n",
       "      <td>76.0</td>\n",
       "    </tr>\n",
       "    <tr>\n",
       "      <th>2</th>\n",
       "      <td>1</td>\n",
       "      <td>48</td>\n",
       "      <td>1</td>\n",
       "      <td>20.0</td>\n",
       "      <td>0.0</td>\n",
       "      <td>0</td>\n",
       "      <td>0</td>\n",
       "      <td>0</td>\n",
       "      <td>245.0</td>\n",
       "      <td>127.5</td>\n",
       "      <td>80.0</td>\n",
       "      <td>25.34</td>\n",
       "      <td>75.0</td>\n",
       "      <td>70.0</td>\n",
       "    </tr>\n",
       "    <tr>\n",
       "      <th>3</th>\n",
       "      <td>0</td>\n",
       "      <td>61</td>\n",
       "      <td>1</td>\n",
       "      <td>30.0</td>\n",
       "      <td>0.0</td>\n",
       "      <td>0</td>\n",
       "      <td>1</td>\n",
       "      <td>0</td>\n",
       "      <td>225.0</td>\n",
       "      <td>150.0</td>\n",
       "      <td>95.0</td>\n",
       "      <td>28.58</td>\n",
       "      <td>65.0</td>\n",
       "      <td>103.0</td>\n",
       "    </tr>\n",
       "    <tr>\n",
       "      <th>4</th>\n",
       "      <td>0</td>\n",
       "      <td>46</td>\n",
       "      <td>1</td>\n",
       "      <td>23.0</td>\n",
       "      <td>0.0</td>\n",
       "      <td>0</td>\n",
       "      <td>0</td>\n",
       "      <td>0</td>\n",
       "      <td>285.0</td>\n",
       "      <td>130.0</td>\n",
       "      <td>84.0</td>\n",
       "      <td>23.10</td>\n",
       "      <td>85.0</td>\n",
       "      <td>85.0</td>\n",
       "    </tr>\n",
       "  </tbody>\n",
       "</table>\n",
       "</div>"
      ],
      "text/plain": [
       "   male  age  currentSmoker  cigsPerDay  BPMeds  prevalentStroke  \\\n",
       "0     1   39              0         0.0     0.0                0   \n",
       "1     0   46              0         0.0     0.0                0   \n",
       "2     1   48              1        20.0     0.0                0   \n",
       "3     0   61              1        30.0     0.0                0   \n",
       "4     0   46              1        23.0     0.0                0   \n",
       "\n",
       "   prevalentHyp  diabetes  totChol  sysBP  diaBP    BMI  heartRate  glucose  \n",
       "0             0         0    195.0  106.0   70.0  26.97       80.0     77.0  \n",
       "1             0         0    250.0  121.0   81.0  28.73       95.0     76.0  \n",
       "2             0         0    245.0  127.5   80.0  25.34       75.0     70.0  \n",
       "3             1         0    225.0  150.0   95.0  28.58       65.0    103.0  \n",
       "4             0         0    285.0  130.0   84.0  23.10       85.0     85.0  "
      ]
     },
     "execution_count": 22,
     "metadata": {},
     "output_type": "execute_result"
    }
   ],
   "source": [
    "X.head()"
   ]
  },
  {
   "cell_type": "code",
   "execution_count": 23,
   "metadata": {},
   "outputs": [
    {
     "data": {
      "text/plain": [
       "0    0\n",
       "1    0\n",
       "2    0\n",
       "3    1\n",
       "4    0\n",
       "Name: TenYearCHD, dtype: int64"
      ]
     },
     "execution_count": 23,
     "metadata": {},
     "output_type": "execute_result"
    }
   ],
   "source": [
    "y.head()"
   ]
  },
  {
   "cell_type": "code",
   "execution_count": 24,
   "metadata": {},
   "outputs": [],
   "source": [
    "from sklearn.ensemble import ExtraTreesRegressor\n",
    "selection = ExtraTreesRegressor()"
   ]
  },
  {
   "cell_type": "code",
   "execution_count": 25,
   "metadata": {},
   "outputs": [
    {
     "data": {
      "text/plain": [
       "ExtraTreesRegressor()"
      ]
     },
     "execution_count": 25,
     "metadata": {},
     "output_type": "execute_result"
    }
   ],
   "source": [
    "selection.fit(X,y)"
   ]
  },
  {
   "cell_type": "code",
   "execution_count": 26,
   "metadata": {},
   "outputs": [
    {
     "data": {
      "text/plain": [
       "array([0.02073348, 0.13640724, 0.0187944 , 0.05735672, 0.01095156,\n",
       "       0.00536566, 0.02701278, 0.00948827, 0.11603504, 0.12834673,\n",
       "       0.12170254, 0.11385846, 0.10943621, 0.1245109 ])"
      ]
     },
     "execution_count": 26,
     "metadata": {},
     "output_type": "execute_result"
    }
   ],
   "source": [
    "selection.feature_importances_"
   ]
  },
  {
   "cell_type": "code",
   "execution_count": 27,
   "metadata": {},
   "outputs": [
    {
     "data": {
      "text/plain": [
       "['male',\n",
       " 'age',\n",
       " 'currentSmoker',\n",
       " 'cigsPerDay',\n",
       " 'BPMeds',\n",
       " 'prevalentStroke',\n",
       " 'prevalentHyp',\n",
       " 'diabetes',\n",
       " 'totChol',\n",
       " 'sysBP',\n",
       " 'diaBP',\n",
       " 'BMI',\n",
       " 'heartRate',\n",
       " 'glucose']"
      ]
     },
     "execution_count": 27,
     "metadata": {},
     "output_type": "execute_result"
    }
   ],
   "source": [
    "feature = list(X.columns)\n",
    "feature"
   ]
  },
  {
   "cell_type": "markdown",
   "metadata": {},
   "source": [
    "# features importance"
   ]
  },
  {
   "cell_type": "code",
   "execution_count": 28,
   "metadata": {},
   "outputs": [
    {
     "data": {
      "image/png": "[encoded data removed]",
      "text/plain": [
       "<Figure size 864x576 with 1 Axes>"
      ]
     },
     "metadata": {
      "needs_background": "light"
     },
     "output_type": "display_data"
    }
   ],
   "source": [
    "plt.figure(figsize = (12,8))\n",
    "feat_importances = pd.Series(selection.feature_importances_, index=X.columns)\n",
    "feat_importances.nlargest(20).plot(kind='barh')\n",
    "plt.show()"
   ]
  },
  {
   "cell_type": "markdown",
   "metadata": {},
   "source": [
    "# Train-Test Split Evaluation"
   ]
  },
  {
   "cell_type": "code",
   "execution_count": 29,
   "metadata": {},
   "outputs": [],
   "source": [
    "from sklearn.model_selection import train_test_split\n",
    "X_train,X_test,y_train,y_test=train_test_split(X,y,test_size=0.33,random_state=27)"
   ]
  },
  {
   "cell_type": "code",
   "execution_count": 30,
   "metadata": {},
   "outputs": [
    {
     "data": {
      "text/plain": [
       "(2511, 14)"
      ]
     },
     "execution_count": 30,
     "metadata": {},
     "output_type": "execute_result"
    }
   ],
   "source": [
    "X_train.shape"
   ]
  },
  {
   "cell_type": "code",
   "execution_count": 31,
   "metadata": {},
   "outputs": [
    {
     "data": {
      "text/plain": [
       "(1238, 14)"
      ]
     },
     "execution_count": 31,
     "metadata": {},
     "output_type": "execute_result"
    }
   ],
   "source": [
    "X_test.shape"
   ]
  },
  {
   "cell_type": "code",
   "execution_count": 32,
   "metadata": {},
   "outputs": [
    {
     "data": {
      "text/plain": [
       "(1238,)"
      ]
     },
     "execution_count": 32,
     "metadata": {},
     "output_type": "execute_result"
    }
   ],
   "source": [
    "y_test.shape"
   ]
  },
  {
   "cell_type": "code",
   "execution_count": 33,
   "metadata": {},
   "outputs": [
    {
     "data": {
      "text/plain": [
       "(2511,)"
      ]
     },
     "execution_count": 33,
     "metadata": {},
     "output_type": "execute_result"
    }
   ],
   "source": [
    "y_train.shape"
   ]
  },
  {
   "cell_type": "markdown",
   "metadata": {},
   "source": [
    "# Different types of Kernels used"
   ]
  },
  {
   "cell_type": "markdown",
   "metadata": {},
   "source": [
    "# Support vector machine"
   ]
  },
  {
   "cell_type": "code",
   "execution_count": 34,
   "metadata": {},
   "outputs": [],
   "source": [
    "from sklearn.svm import SVC\n",
    "from sklearn.metrics import classification_report,confusion_matrix,accuracy_score"
   ]
  },
  {
   "cell_type": "code",
   "execution_count": 35,
   "metadata": {},
   "outputs": [
    {
     "data": {
      "text/plain": [
       "SVC()"
      ]
     },
     "execution_count": 35,
     "metadata": {},
     "output_type": "execute_result"
    }
   ],
   "source": [
    "svclassifier=SVC()\n",
    "svclassifier.fit(X_train,y_train)"
   ]
  },
  {
   "cell_type": "code",
   "execution_count": 36,
   "metadata": {},
   "outputs": [],
   "source": [
    "y_predict=svclassifier.predict(X_test)"
   ]
  },
  {
   "cell_type": "code",
   "execution_count": 37,
   "metadata": {},
   "outputs": [
    {
     "name": "stdout",
     "output_type": "stream",
     "text": [
      "Accuracy: 0.842\n"
     ]
    }
   ],
   "source": [
    "print(\"Accuracy: %0.3f\"%accuracy_score(y_predict,y_test))"
   ]
  },
  {
   "cell_type": "code",
   "execution_count": 42,
   "metadata": {},
   "outputs": [
    {
     "data": {
      "text/html": [
       "<div>\n",
       "<style scoped>\n",
       "    .dataframe tbody tr th:only-of-type {\n",
       "        vertical-align: middle;\n",
       "    }\n",
       "\n",
       "    .dataframe tbody tr th {\n",
       "        vertical-align: top;\n",
       "    }\n",
       "\n",
       "    .dataframe thead th {\n",
       "        text-align: right;\n",
       "    }\n",
       "</style>\n",
       "<table border=\"1\" class=\"dataframe\">\n",
       "  <thead>\n",
       "    <tr style=\"text-align: right;\">\n",
       "      <th></th>\n",
       "      <th>predicted heartattck</th>\n",
       "      <th>predicted healthy</th>\n",
       "    </tr>\n",
       "  </thead>\n",
       "  <tbody>\n",
       "    <tr>\n",
       "      <th>have heartattck</th>\n",
       "      <td>1042</td>\n",
       "      <td>0</td>\n",
       "    </tr>\n",
       "    <tr>\n",
       "      <th>healthy</th>\n",
       "      <td>0</td>\n",
       "      <td>0</td>\n",
       "    </tr>\n",
       "  </tbody>\n",
       "</table>\n",
       "</div>"
      ],
      "text/plain": [
       "                 predicted heartattck  predicted healthy\n",
       "have heartattck                  1042                  0\n",
       "healthy                             0                  0"
      ]
     },
     "execution_count": 42,
     "metadata": {},
     "output_type": "execute_result"
    }
   ],
   "source": [
    "cm=np.array(confusion_matrix(y_test,y_predict,labels=[0,14]))\n",
    "confusion=pd.DataFrame(cm, index=['have heartattck', 'healthy'],\n",
    "                       columns=['predicted heartattck','predicted healthy'])\n",
    "confusion"
   ]
  },
  {
   "cell_type": "code",
   "execution_count": 43,
   "metadata": {},
   "outputs": [
    {
     "name": "stdout",
     "output_type": "stream",
     "text": [
      "              precision    recall  f1-score   support\n",
      "\n",
      "           0       0.84      1.00      0.91      1044\n",
      "           1       0.33      0.01      0.01       194\n",
      "\n",
      "    accuracy                           0.84      1238\n",
      "   macro avg       0.59      0.50      0.46      1238\n",
      "weighted avg       0.76      0.84      0.77      1238\n",
      "\n"
     ]
    }
   ],
   "source": [
    "print(classification_report(y_test,y_predict))"
   ]
  },
  {
   "cell_type": "markdown",
   "metadata": {},
   "source": [
    "# Linear kernel"
   ]
  },
  {
   "cell_type": "code",
   "execution_count": 44,
   "metadata": {},
   "outputs": [
    {
     "data": {
      "text/plain": [
       "SVC(kernel='linear')"
      ]
     },
     "execution_count": 44,
     "metadata": {},
     "output_type": "execute_result"
    }
   ],
   "source": [
    "svclassifier2=SVC(kernel='linear')\n",
    "svclassifier2.fit(X_train,y_train)"
   ]
  },
  {
   "cell_type": "code",
   "execution_count": 45,
   "metadata": {},
   "outputs": [],
   "source": [
    "y_predict2=svclassifier2.predict(X_test)"
   ]
  },
  {
   "cell_type": "code",
   "execution_count": 46,
   "metadata": {},
   "outputs": [
    {
     "name": "stdout",
     "output_type": "stream",
     "text": [
      "Accuracy: 0.843\n"
     ]
    }
   ],
   "source": [
    "print(\"Accuracy: %0.3f\"%accuracy_score(y_predict2,y_test))"
   ]
  },
  {
   "cell_type": "code",
   "execution_count": 79,
   "metadata": {},
   "outputs": [
    {
     "data": {
      "text/html": [
       "<div>\n",
       "<style scoped>\n",
       "    .dataframe tbody tr th:only-of-type {\n",
       "        vertical-align: middle;\n",
       "    }\n",
       "\n",
       "    .dataframe tbody tr th {\n",
       "        vertical-align: top;\n",
       "    }\n",
       "\n",
       "    .dataframe thead th {\n",
       "        text-align: right;\n",
       "    }\n",
       "</style>\n",
       "<table border=\"1\" class=\"dataframe\">\n",
       "  <thead>\n",
       "    <tr style=\"text-align: right;\">\n",
       "      <th></th>\n",
       "      <th>predicted heartattck</th>\n",
       "      <th>predicted healthy</th>\n",
       "    </tr>\n",
       "  </thead>\n",
       "  <tbody>\n",
       "    <tr>\n",
       "      <th>have heartattck</th>\n",
       "      <td>1044</td>\n",
       "      <td>0</td>\n",
       "    </tr>\n",
       "    <tr>\n",
       "      <th>healthy</th>\n",
       "      <td>0</td>\n",
       "      <td>0</td>\n",
       "    </tr>\n",
       "  </tbody>\n",
       "</table>\n",
       "</div>"
      ],
      "text/plain": [
       "                 predicted heartattck  predicted healthy\n",
       "have heartattck                  1044                  0\n",
       "healthy                             0                  0"
      ]
     },
     "execution_count": 79,
     "metadata": {},
     "output_type": "execute_result"
    }
   ],
   "source": [
    "cm2=np.array(confusion_matrix(y_test,y_predict2,labels=[0,14]))\n",
    "confusion2=pd.DataFrame(cm2, index=['have heartattck', 'healthy'],\n",
    "                       columns=['predicted heartattck','predicted healthy'])\n",
    "confusion2"
   ]
  },
  {
   "cell_type": "code",
   "execution_count": 48,
   "metadata": {},
   "outputs": [
    {
     "name": "stdout",
     "output_type": "stream",
     "text": [
      "              precision    recall  f1-score   support\n",
      "\n",
      "           0       0.84      1.00      0.91      1044\n",
      "           1       0.00      0.00      0.00       194\n",
      "\n",
      "    accuracy                           0.84      1238\n",
      "   macro avg       0.42      0.50      0.46      1238\n",
      "weighted avg       0.71      0.84      0.77      1238\n",
      "\n"
     ]
    },
    {
     "name": "stderr",
     "output_type": "stream",
     "text": [
      "C:\\Users\\megha\\anaconda3\\lib\\site-packages\\sklearn\\metrics\\_classification.py:1221: UndefinedMetricWarning: Precision and F-score are ill-defined and being set to 0.0 in labels with no predicted samples. Use `zero_division` parameter to control this behavior.\n",
      "  _warn_prf(average, modifier, msg_start, len(result))\n"
     ]
    }
   ],
   "source": [
    "print(classification_report(y_test,y_predict2))"
   ]
  },
  {
   "cell_type": "markdown",
   "metadata": {},
   "source": [
    "# Polynomial kernel"
   ]
  },
  {
   "cell_type": "code",
   "execution_count": 49,
   "metadata": {},
   "outputs": [
    {
     "data": {
      "text/plain": [
       "SVC(kernel='poly')"
      ]
     },
     "execution_count": 49,
     "metadata": {},
     "output_type": "execute_result"
    }
   ],
   "source": [
    "svclassifier3=SVC(kernel='poly')\n",
    "svclassifier3.fit(X_train,y_train)"
   ]
  },
  {
   "cell_type": "code",
   "execution_count": 50,
   "metadata": {},
   "outputs": [],
   "source": [
    "y_predict3=svclassifier3.predict(X_test)"
   ]
  },
  {
   "cell_type": "code",
   "execution_count": 51,
   "metadata": {},
   "outputs": [
    {
     "name": "stdout",
     "output_type": "stream",
     "text": [
      "Accuracy: 0.843\n"
     ]
    }
   ],
   "source": [
    "print(\"Accuracy: %0.3f\"%accuracy_score(y_predict3,y_test))"
   ]
  },
  {
   "cell_type": "code",
   "execution_count": 77,
   "metadata": {},
   "outputs": [
    {
     "data": {
      "text/html": [
       "<div>\n",
       "<style scoped>\n",
       "    .dataframe tbody tr th:only-of-type {\n",
       "        vertical-align: middle;\n",
       "    }\n",
       "\n",
       "    .dataframe tbody tr th {\n",
       "        vertical-align: top;\n",
       "    }\n",
       "\n",
       "    .dataframe thead th {\n",
       "        text-align: right;\n",
       "    }\n",
       "</style>\n",
       "<table border=\"1\" class=\"dataframe\">\n",
       "  <thead>\n",
       "    <tr style=\"text-align: right;\">\n",
       "      <th></th>\n",
       "      <th>predicted heartattck</th>\n",
       "      <th>predicted healthy</th>\n",
       "    </tr>\n",
       "  </thead>\n",
       "  <tbody>\n",
       "    <tr>\n",
       "      <th>have heartattck</th>\n",
       "      <td>1042</td>\n",
       "      <td>0</td>\n",
       "    </tr>\n",
       "    <tr>\n",
       "      <th>healthy</th>\n",
       "      <td>0</td>\n",
       "      <td>0</td>\n",
       "    </tr>\n",
       "  </tbody>\n",
       "</table>\n",
       "</div>"
      ],
      "text/plain": [
       "                 predicted heartattck  predicted healthy\n",
       "have heartattck                  1042                  0\n",
       "healthy                             0                  0"
      ]
     },
     "execution_count": 77,
     "metadata": {},
     "output_type": "execute_result"
    }
   ],
   "source": [
    "cm3=np.array(confusion_matrix(y_test,y_predict3,labels=[0,14]))\n",
    "confusion3=pd.DataFrame(cm3, index=['have heartattck', 'healthy'],\n",
    "                       columns=['predicted heartattck','predicted healthy'])\n",
    "confusion3"
   ]
  },
  {
   "cell_type": "code",
   "execution_count": 63,
   "metadata": {},
   "outputs": [
    {
     "name": "stdout",
     "output_type": "stream",
     "text": [
      "              precision    recall  f1-score   support\n",
      "\n",
      "           0       0.84      1.00      0.91      1044\n",
      "           1       0.50      0.01      0.02       194\n",
      "\n",
      "    accuracy                           0.84      1238\n",
      "   macro avg       0.67      0.50      0.47      1238\n",
      "weighted avg       0.79      0.84      0.77      1238\n",
      "\n"
     ]
    }
   ],
   "source": [
    "print(classification_report(y_test,y_predict3))"
   ]
  },
  {
   "cell_type": "markdown",
   "metadata": {},
   "source": [
    "# Radial basis function kernel"
   ]
  },
  {
   "cell_type": "code",
   "execution_count": 64,
   "metadata": {},
   "outputs": [
    {
     "data": {
      "text/plain": [
       "SVC()"
      ]
     },
     "execution_count": 64,
     "metadata": {},
     "output_type": "execute_result"
    }
   ],
   "source": [
    "svclassifier4=SVC(kernel='rbf')\n",
    "svclassifier4.fit(X_train,y_train)"
   ]
  },
  {
   "cell_type": "code",
   "execution_count": 65,
   "metadata": {},
   "outputs": [],
   "source": [
    "y_predict4=svclassifier4.predict(X_test)"
   ]
  },
  {
   "cell_type": "code",
   "execution_count": 66,
   "metadata": {},
   "outputs": [
    {
     "name": "stdout",
     "output_type": "stream",
     "text": [
      "Accuracy: 0.842\n"
     ]
    }
   ],
   "source": [
    "print(\"Accuracy: %0.3f\"%accuracy_score(y_predict4,y_test))"
   ]
  },
  {
   "cell_type": "code",
   "execution_count": 80,
   "metadata": {},
   "outputs": [
    {
     "data": {
      "text/html": [
       "<div>\n",
       "<style scoped>\n",
       "    .dataframe tbody tr th:only-of-type {\n",
       "        vertical-align: middle;\n",
       "    }\n",
       "\n",
       "    .dataframe tbody tr th {\n",
       "        vertical-align: top;\n",
       "    }\n",
       "\n",
       "    .dataframe thead th {\n",
       "        text-align: right;\n",
       "    }\n",
       "</style>\n",
       "<table border=\"1\" class=\"dataframe\">\n",
       "  <thead>\n",
       "    <tr style=\"text-align: right;\">\n",
       "      <th></th>\n",
       "      <th>predicted heartattack</th>\n",
       "      <th>predicted healthy</th>\n",
       "    </tr>\n",
       "  </thead>\n",
       "  <tbody>\n",
       "    <tr>\n",
       "      <th>have heartattack</th>\n",
       "      <td>1042</td>\n",
       "      <td>0</td>\n",
       "    </tr>\n",
       "    <tr>\n",
       "      <th>healthy</th>\n",
       "      <td>0</td>\n",
       "      <td>0</td>\n",
       "    </tr>\n",
       "  </tbody>\n",
       "</table>\n",
       "</div>"
      ],
      "text/plain": [
       "                  predicted heartattack  predicted healthy\n",
       "have heartattack                   1042                  0\n",
       "healthy                               0                  0"
      ]
     },
     "execution_count": 80,
     "metadata": {},
     "output_type": "execute_result"
    }
   ],
   "source": [
    "cm4=np.array(confusion_matrix(y_test,y_predict4,labels=[0,14]))\n",
    "confusion4=pd.DataFrame(cm4, index=['have heartattack', 'healthy'],\n",
    "                       columns=['predicted heartattack','predicted healthy'])\n",
    "confusion4"
   ]
  },
  {
   "cell_type": "code",
   "execution_count": 69,
   "metadata": {},
   "outputs": [
    {
     "name": "stdout",
     "output_type": "stream",
     "text": [
      "              precision    recall  f1-score   support\n",
      "\n",
      "           0       0.84      1.00      0.91      1044\n",
      "           1       0.33      0.01      0.01       194\n",
      "\n",
      "    accuracy                           0.84      1238\n",
      "   macro avg       0.59      0.50      0.46      1238\n",
      "weighted avg       0.76      0.84      0.77      1238\n",
      "\n"
     ]
    }
   ],
   "source": [
    "print(classification_report(y_test,y_predict4))"
   ]
  },
  {
   "cell_type": "markdown",
   "metadata": {},
   "source": [
    "# Sigmoid kernel"
   ]
  },
  {
   "cell_type": "code",
   "execution_count": 70,
   "metadata": {},
   "outputs": [
    {
     "data": {
      "text/plain": [
       "SVC(kernel='sigmoid')"
      ]
     },
     "execution_count": 70,
     "metadata": {},
     "output_type": "execute_result"
    }
   ],
   "source": [
    "svclassifier5=SVC(kernel='sigmoid')\n",
    "svclassifier5.fit(X_train, y_train)"
   ]
  },
  {
   "cell_type": "code",
   "execution_count": 71,
   "metadata": {},
   "outputs": [],
   "source": [
    "y_predict5=svclassifier5.predict(X_test)"
   ]
  },
  {
   "cell_type": "code",
   "execution_count": 72,
   "metadata": {},
   "outputs": [
    {
     "name": "stdout",
     "output_type": "stream",
     "text": [
      "Accuracy: 0.742\n"
     ]
    }
   ],
   "source": [
    "print(\"Accuracy: %0.3f\"%accuracy_score(y_predict5,y_test))"
   ]
  },
  {
   "cell_type": "code",
   "execution_count": 73,
   "metadata": {},
   "outputs": [
    {
     "data": {
      "text/html": [
       "<div>\n",
       "<style scoped>\n",
       "    .dataframe tbody tr th:only-of-type {\n",
       "        vertical-align: middle;\n",
       "    }\n",
       "\n",
       "    .dataframe tbody tr th {\n",
       "        vertical-align: top;\n",
       "    }\n",
       "\n",
       "    .dataframe thead th {\n",
       "        text-align: right;\n",
       "    }\n",
       "</style>\n",
       "<table border=\"1\" class=\"dataframe\">\n",
       "  <thead>\n",
       "    <tr style=\"text-align: right;\">\n",
       "      <th></th>\n",
       "      <th>predicted heartattack</th>\n",
       "      <th>predicted healthy</th>\n",
       "    </tr>\n",
       "  </thead>\n",
       "  <tbody>\n",
       "    <tr>\n",
       "      <th>have heartattack</th>\n",
       "      <td>911</td>\n",
       "      <td>0</td>\n",
       "    </tr>\n",
       "    <tr>\n",
       "      <th>healthy</th>\n",
       "      <td>0</td>\n",
       "      <td>0</td>\n",
       "    </tr>\n",
       "  </tbody>\n",
       "</table>\n",
       "</div>"
      ],
      "text/plain": [
       "                  predicted heartattack  predicted healthy\n",
       "have heartattack                    911                  0\n",
       "healthy                               0                  0"
      ]
     },
     "execution_count": 73,
     "metadata": {},
     "output_type": "execute_result"
    }
   ],
   "source": [
    "cm5=np.array(confusion_matrix(y_test,y_predict5,labels=[0,14]))\n",
    "confusion5=pd.DataFrame(cm5, index=['have heartattack', 'healthy'],\n",
    "                       columns=['predicted heartattack','predicted healthy'])\n",
    "confusion5"
   ]
  },
  {
   "cell_type": "code",
   "execution_count": 74,
   "metadata": {},
   "outputs": [
    {
     "name": "stdout",
     "output_type": "stream",
     "text": [
      "              precision    recall  f1-score   support\n",
      "\n",
      "           0       0.83      0.87      0.85      1044\n",
      "           1       0.05      0.04      0.04       194\n",
      "\n",
      "    accuracy                           0.74      1238\n",
      "   macro avg       0.44      0.45      0.45      1238\n",
      "weighted avg       0.71      0.74      0.72      1238\n",
      "\n"
     ]
    }
   ],
   "source": [
    "print(classification_report(y_test,y_predict5))"
   ]
  }
 ],
 "metadata": {
  "kernelspec": {
   "display_name": "Python 3",
   "language": "python",
   "name": "python3"
  },
  "language_info": {
   "codemirror_mode": {
    "name": "ipython",
    "version": 3
   },
   "file_extension": ".py",
   "mimetype": "text/x-python",
   "name": "python",
   "nbconvert_exporter": "python",
   "pygments_lexer": "ipython3",
   "version": "3.7.10"
  }
 },
 "nbformat": 4,
 "nbformat_minor": 4
}
